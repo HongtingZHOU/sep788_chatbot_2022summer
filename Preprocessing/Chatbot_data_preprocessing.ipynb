{
 "cells": [
  {
   "cell_type": "code",
   "execution_count": 1,
   "id": "b94105ef",
   "metadata": {},
   "outputs": [],
   "source": [
    "import pandas as pd\n",
    "import numpy as np\n",
    "import string"
   ]
  },
  {
   "cell_type": "code",
   "execution_count": 2,
   "id": "92c9ef6a",
   "metadata": {},
   "outputs": [],
   "source": [
    "# import data\n",
    "df1 = pd.read_csv('C:\\McMaster study\\Sep 788&789\\project\\Question_Answer_Dataset_v1.2\\S08\\question_answer_pairs.txt', sep='\\t',encoding = 'ISO-8859-1')\n",
    "df2 = pd.read_csv('C:\\McMaster study\\Sep 788&789\\project\\Question_Answer_Dataset_v1.2\\S09\\question_answer_pairs.txt', sep='\\t',encoding = 'ISO-8859-1')\n",
    "df3 = pd.read_csv('C:\\McMaster study\\Sep 788&789\\project\\Question_Answer_Dataset_v1.2\\S10\\question_answer_pairs.txt', sep='\\t',encoding = 'ISO-8859-1')"
   ]
  },
  {
   "cell_type": "code",
   "execution_count": 3,
   "id": "a3e78f81",
   "metadata": {},
   "outputs": [
    {
     "data": {
      "text/html": [
       "<div>\n",
       "<style scoped>\n",
       "    .dataframe tbody tr th:only-of-type {\n",
       "        vertical-align: middle;\n",
       "    }\n",
       "\n",
       "    .dataframe tbody tr th {\n",
       "        vertical-align: top;\n",
       "    }\n",
       "\n",
       "    .dataframe thead th {\n",
       "        text-align: right;\n",
       "    }\n",
       "</style>\n",
       "<table border=\"1\" class=\"dataframe\">\n",
       "  <thead>\n",
       "    <tr style=\"text-align: right;\">\n",
       "      <th></th>\n",
       "      <th>ArticleTitle</th>\n",
       "      <th>Question</th>\n",
       "      <th>Answer</th>\n",
       "      <th>DifficultyFromQuestioner</th>\n",
       "      <th>DifficultyFromAnswerer</th>\n",
       "      <th>ArticleFile</th>\n",
       "    </tr>\n",
       "  </thead>\n",
       "  <tbody>\n",
       "    <tr>\n",
       "      <th>820</th>\n",
       "      <td>Xylophone</td>\n",
       "      <td>What is the earliest historical reference in E...</td>\n",
       "      <td>Arnold Schlick's Spiegel der Orgelmacher und O...</td>\n",
       "      <td>medium</td>\n",
       "      <td>medium</td>\n",
       "      <td>data/set2/a8</td>\n",
       "    </tr>\n",
       "    <tr>\n",
       "      <th>821</th>\n",
       "      <td>Xylophone</td>\n",
       "      <td>How are western-style xylophones characterised?</td>\n",
       "      <td>by a bright, sharp tone and high register</td>\n",
       "      <td>medium</td>\n",
       "      <td>medium</td>\n",
       "      <td>data/set2/a8</td>\n",
       "    </tr>\n",
       "    <tr>\n",
       "      <th>822</th>\n",
       "      <td>Xylophone</td>\n",
       "      <td>Can a xylophone be 3 octaves?</td>\n",
       "      <td>yes</td>\n",
       "      <td>hard</td>\n",
       "      <td>hard</td>\n",
       "      <td>data/set2/a8</td>\n",
       "    </tr>\n",
       "    <tr>\n",
       "      <th>823</th>\n",
       "      <td>Xylophone</td>\n",
       "      <td>Can a short bar follow a long bar?</td>\n",
       "      <td>no</td>\n",
       "      <td>hard</td>\n",
       "      <td>hard</td>\n",
       "      <td>data/set2/a8</td>\n",
       "    </tr>\n",
       "    <tr>\n",
       "      <th>824</th>\n",
       "      <td>Xylophone</td>\n",
       "      <td>Did vibraphones exist in 1930?</td>\n",
       "      <td>yes</td>\n",
       "      <td>hard</td>\n",
       "      <td>hard</td>\n",
       "      <td>data/set2/a8</td>\n",
       "    </tr>\n",
       "  </tbody>\n",
       "</table>\n",
       "</div>"
      ],
      "text/plain": [
       "    ArticleTitle                                           Question  \\\n",
       "820    Xylophone  What is the earliest historical reference in E...   \n",
       "821    Xylophone    How are western-style xylophones characterised?   \n",
       "822    Xylophone                      Can a xylophone be 3 octaves?   \n",
       "823    Xylophone                 Can a short bar follow a long bar?   \n",
       "824    Xylophone                     Did vibraphones exist in 1930?   \n",
       "\n",
       "                                                Answer  \\\n",
       "820  Arnold Schlick's Spiegel der Orgelmacher und O...   \n",
       "821          by a bright, sharp tone and high register   \n",
       "822                                                yes   \n",
       "823                                                 no   \n",
       "824                                                yes   \n",
       "\n",
       "    DifficultyFromQuestioner DifficultyFromAnswerer   ArticleFile  \n",
       "820                   medium                 medium  data/set2/a8  \n",
       "821                   medium                 medium  data/set2/a8  \n",
       "822                     hard                   hard  data/set2/a8  \n",
       "823                     hard                   hard  data/set2/a8  \n",
       "824                     hard                   hard  data/set2/a8  "
      ]
     },
     "execution_count": 3,
     "metadata": {},
     "output_type": "execute_result"
    }
   ],
   "source": [
    "df2.tail()"
   ]
  },
  {
   "cell_type": "code",
   "execution_count": 4,
   "id": "05fca855",
   "metadata": {},
   "outputs": [
    {
     "name": "stdout",
     "output_type": "stream",
     "text": [
      "<class 'pandas.core.frame.DataFrame'>\n",
      "RangeIndex: 3998 entries, 0 to 3997\n",
      "Data columns (total 6 columns):\n",
      " #   Column                    Non-Null Count  Dtype \n",
      "---  ------                    --------------  ----- \n",
      " 0   ArticleTitle              3998 non-null   object\n",
      " 1   Question                  3961 non-null   object\n",
      " 2   Answer                    3422 non-null   object\n",
      " 3   DifficultyFromQuestioner  3043 non-null   object\n",
      " 4   DifficultyFromAnswerer    3418 non-null   object\n",
      " 5   ArticleFile               3996 non-null   object\n",
      "dtypes: object(6)\n",
      "memory usage: 187.5+ KB\n"
     ]
    },
    {
     "data": {
      "text/html": [
       "<div>\n",
       "<style scoped>\n",
       "    .dataframe tbody tr th:only-of-type {\n",
       "        vertical-align: middle;\n",
       "    }\n",
       "\n",
       "    .dataframe tbody tr th {\n",
       "        vertical-align: top;\n",
       "    }\n",
       "\n",
       "    .dataframe thead th {\n",
       "        text-align: right;\n",
       "    }\n",
       "</style>\n",
       "<table border=\"1\" class=\"dataframe\">\n",
       "  <thead>\n",
       "    <tr style=\"text-align: right;\">\n",
       "      <th></th>\n",
       "      <th>ArticleTitle</th>\n",
       "      <th>Question</th>\n",
       "      <th>Answer</th>\n",
       "      <th>DifficultyFromQuestioner</th>\n",
       "      <th>DifficultyFromAnswerer</th>\n",
       "      <th>ArticleFile</th>\n",
       "    </tr>\n",
       "  </thead>\n",
       "  <tbody>\n",
       "    <tr>\n",
       "      <th>3993</th>\n",
       "      <td>Zebra</td>\n",
       "      <td>What areas do the Grevy's Zebras inhabit?</td>\n",
       "      <td>NaN</td>\n",
       "      <td>hard</td>\n",
       "      <td>NaN</td>\n",
       "      <td>data/set1/a9</td>\n",
       "    </tr>\n",
       "    <tr>\n",
       "      <th>3994</th>\n",
       "      <td>Zebra</td>\n",
       "      <td>Which species of zebra is known as the common ...</td>\n",
       "      <td>Plains Zebra (Equus quagga, formerly Equus bur...</td>\n",
       "      <td>hard</td>\n",
       "      <td>medium</td>\n",
       "      <td>data/set1/a9</td>\n",
       "    </tr>\n",
       "    <tr>\n",
       "      <th>3995</th>\n",
       "      <td>Zebra</td>\n",
       "      <td>Which species of zebra is known as the common ...</td>\n",
       "      <td>Plains Zebra</td>\n",
       "      <td>hard</td>\n",
       "      <td>medium</td>\n",
       "      <td>data/set1/a9</td>\n",
       "    </tr>\n",
       "    <tr>\n",
       "      <th>3996</th>\n",
       "      <td>Zebra</td>\n",
       "      <td>At what age can a zebra breed?</td>\n",
       "      <td>five or six</td>\n",
       "      <td>hard</td>\n",
       "      <td>medium</td>\n",
       "      <td>data/set1/a9</td>\n",
       "    </tr>\n",
       "    <tr>\n",
       "      <th>3997</th>\n",
       "      <td>Zebra</td>\n",
       "      <td>At what age can a zebra breed?</td>\n",
       "      <td>5 or 6</td>\n",
       "      <td>hard</td>\n",
       "      <td>hard</td>\n",
       "      <td>data/set1/a9</td>\n",
       "    </tr>\n",
       "  </tbody>\n",
       "</table>\n",
       "</div>"
      ],
      "text/plain": [
       "     ArticleTitle                                           Question  \\\n",
       "3993        Zebra          What areas do the Grevy's Zebras inhabit?   \n",
       "3994        Zebra  Which species of zebra is known as the common ...   \n",
       "3995        Zebra  Which species of zebra is known as the common ...   \n",
       "3996        Zebra                     At what age can a zebra breed?   \n",
       "3997        Zebra                     At what age can a zebra breed?   \n",
       "\n",
       "                                                 Answer  \\\n",
       "3993                                                NaN   \n",
       "3994  Plains Zebra (Equus quagga, formerly Equus bur...   \n",
       "3995                                       Plains Zebra   \n",
       "3996                                        five or six   \n",
       "3997                                             5 or 6   \n",
       "\n",
       "     DifficultyFromQuestioner DifficultyFromAnswerer   ArticleFile  \n",
       "3993                     hard                    NaN  data/set1/a9  \n",
       "3994                     hard                 medium  data/set1/a9  \n",
       "3995                     hard                 medium  data/set1/a9  \n",
       "3996                     hard                 medium  data/set1/a9  \n",
       "3997                     hard                   hard  data/set1/a9  "
      ]
     },
     "execution_count": 4,
     "metadata": {},
     "output_type": "execute_result"
    }
   ],
   "source": [
    "# combine dataframe\n",
    "df = df1.append([df2, df3])\n",
    "df=df.reset_index(drop=True)\n",
    "df.info()\n",
    "df.tail()"
   ]
  },
  {
   "cell_type": "code",
   "execution_count": 5,
   "id": "8f3ea98c",
   "metadata": {},
   "outputs": [
    {
     "name": "stderr",
     "output_type": "stream",
     "text": [
      "C:\\Users\\ezhou\\AppData\\Local\\Temp/ipykernel_30944/1859622953.py:2: FutureWarning: The default value of regex will change from True to False in a future version.\n",
      "  df[\"Question\"] = df['Question'].str.replace(r'[^\\w\\s]+', '')\n",
      "C:\\Users\\ezhou\\AppData\\Local\\Temp/ipykernel_30944/1859622953.py:3: FutureWarning: The default value of regex will change from True to False in a future version.\n",
      "  df[\"Answer\"] = df['Answer'].str.replace(r'[^\\w\\s]+', '')\n"
     ]
    }
   ],
   "source": [
    "# remove punctuations in Question and answer\n",
    "df[\"Question\"] = df['Question'].str.replace(r'[^\\w\\s]+', '')\n",
    "df[\"Answer\"] = df['Answer'].str.replace(r'[^\\w\\s]+', '')"
   ]
  },
  {
   "cell_type": "code",
   "execution_count": 6,
   "id": "e6d47b53",
   "metadata": {},
   "outputs": [],
   "source": [
    "#change question and answer to lower letter\n",
    "df['Question']=df['Question'].str.lower()\n",
    "df['Answer']=df['Answer'].str.lower()"
   ]
  },
  {
   "cell_type": "code",
   "execution_count": 7,
   "id": "28da0174",
   "metadata": {},
   "outputs": [
    {
     "data": {
      "text/plain": [
       "(3452, 6)"
      ]
     },
     "execution_count": 7,
     "metadata": {},
     "output_type": "execute_result"
    }
   ],
   "source": [
    "# drop duplicates\n",
    "df = df.drop_duplicates()\n",
    "df.shape"
   ]
  },
  {
   "cell_type": "code",
   "execution_count": 8,
   "id": "6240d8a5",
   "metadata": {},
   "outputs": [],
   "source": [
    "# repalce entire space in a cell by null\n",
    "df = df.apply(lambda x: x.str.strip()).replace('', np.nan)"
   ]
  },
  {
   "cell_type": "code",
   "execution_count": 9,
   "id": "f5ed2909",
   "metadata": {},
   "outputs": [
    {
     "data": {
      "text/plain": [
       "(2955, 6)"
      ]
     },
     "execution_count": 9,
     "metadata": {},
     "output_type": "execute_result"
    }
   ],
   "source": [
    "# drop null of question and answer\n",
    "df = df.dropna(subset=['Question','Answer'])\n",
    "df=df.reset_index(drop=True)\n",
    "df.shape"
   ]
  },
  {
   "cell_type": "code",
   "execution_count": 10,
   "id": "3b65c2fd",
   "metadata": {},
   "outputs": [
    {
     "data": {
      "text/html": [
       "<div>\n",
       "<style scoped>\n",
       "    .dataframe tbody tr th:only-of-type {\n",
       "        vertical-align: middle;\n",
       "    }\n",
       "\n",
       "    .dataframe tbody tr th {\n",
       "        vertical-align: top;\n",
       "    }\n",
       "\n",
       "    .dataframe thead th {\n",
       "        text-align: right;\n",
       "    }\n",
       "</style>\n",
       "<table border=\"1\" class=\"dataframe\">\n",
       "  <thead>\n",
       "    <tr style=\"text-align: right;\">\n",
       "      <th></th>\n",
       "      <th>ArticleTitle</th>\n",
       "      <th>Question</th>\n",
       "      <th>Answer</th>\n",
       "      <th>DifficultyFromQuestioner</th>\n",
       "      <th>DifficultyFromAnswerer</th>\n",
       "      <th>ArticleFile</th>\n",
       "    </tr>\n",
       "  </thead>\n",
       "  <tbody>\n",
       "    <tr>\n",
       "      <th>2945</th>\n",
       "      <td>Berlin</td>\n",
       "      <td>does the gendarmenmarkt border the french cath...</td>\n",
       "      <td>yes the gendarmenmarkt borders the french cath...</td>\n",
       "      <td>easy</td>\n",
       "      <td>medium</td>\n",
       "      <td>data/set3/a1</td>\n",
       "    </tr>\n",
       "    <tr>\n",
       "      <th>2946</th>\n",
       "      <td>Violin</td>\n",
       "      <td>does a violin have four strings</td>\n",
       "      <td>yes</td>\n",
       "      <td>easy</td>\n",
       "      <td>easy</td>\n",
       "      <td>data/set2/a2</td>\n",
       "    </tr>\n",
       "    <tr>\n",
       "      <th>2947</th>\n",
       "      <td>Amedeo_Avogadro</td>\n",
       "      <td>in fact was avogadro s  famous  1811  paper wr...</td>\n",
       "      <td>yes</td>\n",
       "      <td>NaN</td>\n",
       "      <td>easy</td>\n",
       "      <td>data/set4/a8</td>\n",
       "    </tr>\n",
       "    <tr>\n",
       "      <th>2948</th>\n",
       "      <td>Ghana</td>\n",
       "      <td>who makes up ghanas parliament</td>\n",
       "      <td>the new patriotic party and national democrati...</td>\n",
       "      <td>hard</td>\n",
       "      <td>hard</td>\n",
       "      <td>data/set2/a5</td>\n",
       "    </tr>\n",
       "    <tr>\n",
       "      <th>2949</th>\n",
       "      <td>turtle</td>\n",
       "      <td>what is the smallest suborder of turtles</td>\n",
       "      <td>pleurodira</td>\n",
       "      <td>hard</td>\n",
       "      <td>medium</td>\n",
       "      <td>data/set1/a9</td>\n",
       "    </tr>\n",
       "    <tr>\n",
       "      <th>2950</th>\n",
       "      <td>Michael_Faraday</td>\n",
       "      <td>did faraday also discover the laws of electrol...</td>\n",
       "      <td>yes faraday also discovered the laws of  elect...</td>\n",
       "      <td>easy</td>\n",
       "      <td>easy</td>\n",
       "      <td>data/set4/a7</td>\n",
       "    </tr>\n",
       "    <tr>\n",
       "      <th>2951</th>\n",
       "      <td>Uruguay</td>\n",
       "      <td>how many square kilometres of continental land...</td>\n",
       "      <td>176214 square kilometres</td>\n",
       "      <td>medium</td>\n",
       "      <td>medium</td>\n",
       "      <td>data/set2/a9</td>\n",
       "    </tr>\n",
       "    <tr>\n",
       "      <th>2952</th>\n",
       "      <td>Drum</td>\n",
       "      <td>arent drums usually played by the hands</td>\n",
       "      <td>yes</td>\n",
       "      <td>NaN</td>\n",
       "      <td>easy</td>\n",
       "      <td>data/set2/a4</td>\n",
       "    </tr>\n",
       "    <tr>\n",
       "      <th>2953</th>\n",
       "      <td>Finland</td>\n",
       "      <td>who is the most popular rock group in finland</td>\n",
       "      <td>cmx</td>\n",
       "      <td>medium</td>\n",
       "      <td>medium</td>\n",
       "      <td>data/set2/a4</td>\n",
       "    </tr>\n",
       "    <tr>\n",
       "      <th>2954</th>\n",
       "      <td>John_Adams</td>\n",
       "      <td>what did jefferson call john adams</td>\n",
       "      <td>colossus of independence</td>\n",
       "      <td>medium</td>\n",
       "      <td>medium</td>\n",
       "      <td>data/set3/a1</td>\n",
       "    </tr>\n",
       "  </tbody>\n",
       "</table>\n",
       "</div>"
      ],
      "text/plain": [
       "         ArticleTitle                                           Question  \\\n",
       "2945           Berlin  does the gendarmenmarkt border the french cath...   \n",
       "2946           Violin                    does a violin have four strings   \n",
       "2947  Amedeo_Avogadro  in fact was avogadro s  famous  1811  paper wr...   \n",
       "2948            Ghana                     who makes up ghanas parliament   \n",
       "2949           turtle           what is the smallest suborder of turtles   \n",
       "2950  Michael_Faraday  did faraday also discover the laws of electrol...   \n",
       "2951          Uruguay  how many square kilometres of continental land...   \n",
       "2952             Drum            arent drums usually played by the hands   \n",
       "2953          Finland      who is the most popular rock group in finland   \n",
       "2954       John_Adams                 what did jefferson call john adams   \n",
       "\n",
       "                                                 Answer  \\\n",
       "2945  yes the gendarmenmarkt borders the french cath...   \n",
       "2946                                                yes   \n",
       "2947                                                yes   \n",
       "2948  the new patriotic party and national democrati...   \n",
       "2949                                         pleurodira   \n",
       "2950  yes faraday also discovered the laws of  elect...   \n",
       "2951                           176214 square kilometres   \n",
       "2952                                                yes   \n",
       "2953                                                cmx   \n",
       "2954                           colossus of independence   \n",
       "\n",
       "     DifficultyFromQuestioner DifficultyFromAnswerer   ArticleFile  \n",
       "2945                     easy                 medium  data/set3/a1  \n",
       "2946                     easy                   easy  data/set2/a2  \n",
       "2947                      NaN                   easy  data/set4/a8  \n",
       "2948                     hard                   hard  data/set2/a5  \n",
       "2949                     hard                 medium  data/set1/a9  \n",
       "2950                     easy                   easy  data/set4/a7  \n",
       "2951                   medium                 medium  data/set2/a9  \n",
       "2952                      NaN                   easy  data/set2/a4  \n",
       "2953                   medium                 medium  data/set2/a4  \n",
       "2954                   medium                 medium  data/set3/a1  "
      ]
     },
     "execution_count": 10,
     "metadata": {},
     "output_type": "execute_result"
    }
   ],
   "source": [
    "# reset dataset in random order\n",
    "df=df.sample(frac=1).reset_index(drop=True)\n",
    "df.tail(10)"
   ]
  },
  {
   "cell_type": "code",
   "execution_count": 11,
   "id": "9050d764",
   "metadata": {},
   "outputs": [],
   "source": [
    "#split training, validation, test set by 0.7, 0.15, 0.15\n",
    "n1=round(len(df)*0.7)\n",
    "n2=round(len(df)*0.15)\n",
    "train_df=df.iloc[0:n1,:].reset_index(drop=True)\n",
    "vail_df=df.iloc[n1:n1+n2,:].reset_index(drop=True)\n",
    "test_df=df.iloc[n1+n2:,:].reset_index(drop=True)"
   ]
  },
  {
   "cell_type": "code",
   "execution_count": 12,
   "id": "326c990f",
   "metadata": {},
   "outputs": [
    {
     "data": {
      "text/plain": [
       "(2068, 6)"
      ]
     },
     "execution_count": 12,
     "metadata": {},
     "output_type": "execute_result"
    }
   ],
   "source": [
    "train_df.shape"
   ]
  },
  {
   "cell_type": "code",
   "execution_count": 13,
   "id": "4e742a6f",
   "metadata": {},
   "outputs": [],
   "source": [
    "# export cleaned dataset\n",
    "train_df.to_excel(r\"C:\\McMaster study\\Sep 788&789\\project\\train_df.xlsx\",encoding=\"utf-8\")\n",
    "vail_df.to_excel(r\"C:\\McMaster study\\Sep 788&789\\project\\vail_df.xlsx\",encoding=\"utf-8\")\n",
    "test_df.to_excel(r\"C:\\McMaster study\\Sep 788&789\\project\\test_df.xlsx\",encoding=\"utf-8\")"
   ]
  },
  {
   "cell_type": "code",
   "execution_count": null,
   "id": "da3279e2",
   "metadata": {},
   "outputs": [],
   "source": []
  }
 ],
 "metadata": {
  "kernelspec": {
   "display_name": "Python 3 (ipykernel)",
   "language": "python",
   "name": "python3"
  },
  "language_info": {
   "codemirror_mode": {
    "name": "ipython",
    "version": 3
   },
   "file_extension": ".py",
   "mimetype": "text/x-python",
   "name": "python",
   "nbconvert_exporter": "python",
   "pygments_lexer": "ipython3",
   "version": "3.9.7"
  }
 },
 "nbformat": 4,
 "nbformat_minor": 5
}
