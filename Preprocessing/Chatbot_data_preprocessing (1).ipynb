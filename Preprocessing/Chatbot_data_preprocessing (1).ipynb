{
 "cells": [
  {
   "cell_type": "code",
   "execution_count": 1,
   "id": "b94105ef",
   "metadata": {},
   "outputs": [],
   "source": [
    "import pandas as pd\n",
    "import numpy as np\n",
    "import string"
   ]
  },
  {
   "cell_type": "code",
   "execution_count": 2,
   "id": "92c9ef6a",
   "metadata": {},
   "outputs": [],
   "source": [
    "# import data\n",
    "df1 = pd.read_csv('Raw_data\\S08_question_answer_pairs.txt', sep='\\t',encoding = 'ISO-8859-1')\n",
    "df2 = pd.read_csv('Raw_data\\S09_question_answer_pairs.txt', sep='\\t',encoding = 'ISO-8859-1')\n",
    "df3 = pd.read_csv('Raw_data\\S10_question_answer_pairs.txt', sep='\\t',encoding = 'ISO-8859-1')"
   ]
  },
  {
   "cell_type": "code",
   "execution_count": 3,
   "id": "a3e78f81",
   "metadata": {},
   "outputs": [
    {
     "data": {
      "text/html": [
       "<div>\n",
       "<style scoped>\n",
       "    .dataframe tbody tr th:only-of-type {\n",
       "        vertical-align: middle;\n",
       "    }\n",
       "\n",
       "    .dataframe tbody tr th {\n",
       "        vertical-align: top;\n",
       "    }\n",
       "\n",
       "    .dataframe thead th {\n",
       "        text-align: right;\n",
       "    }\n",
       "</style>\n",
       "<table border=\"1\" class=\"dataframe\">\n",
       "  <thead>\n",
       "    <tr style=\"text-align: right;\">\n",
       "      <th></th>\n",
       "      <th>ArticleTitle</th>\n",
       "      <th>Question</th>\n",
       "      <th>Answer</th>\n",
       "      <th>DifficultyFromQuestioner</th>\n",
       "      <th>DifficultyFromAnswerer</th>\n",
       "      <th>ArticleFile</th>\n",
       "    </tr>\n",
       "  </thead>\n",
       "  <tbody>\n",
       "    <tr>\n",
       "      <th>820</th>\n",
       "      <td>Xylophone</td>\n",
       "      <td>What is the earliest historical reference in E...</td>\n",
       "      <td>Arnold Schlick's Spiegel der Orgelmacher und O...</td>\n",
       "      <td>medium</td>\n",
       "      <td>medium</td>\n",
       "      <td>data/set2/a8</td>\n",
       "    </tr>\n",
       "    <tr>\n",
       "      <th>821</th>\n",
       "      <td>Xylophone</td>\n",
       "      <td>How are western-style xylophones characterised?</td>\n",
       "      <td>by a bright, sharp tone and high register</td>\n",
       "      <td>medium</td>\n",
       "      <td>medium</td>\n",
       "      <td>data/set2/a8</td>\n",
       "    </tr>\n",
       "    <tr>\n",
       "      <th>822</th>\n",
       "      <td>Xylophone</td>\n",
       "      <td>Can a xylophone be 3 octaves?</td>\n",
       "      <td>yes</td>\n",
       "      <td>hard</td>\n",
       "      <td>hard</td>\n",
       "      <td>data/set2/a8</td>\n",
       "    </tr>\n",
       "    <tr>\n",
       "      <th>823</th>\n",
       "      <td>Xylophone</td>\n",
       "      <td>Can a short bar follow a long bar?</td>\n",
       "      <td>no</td>\n",
       "      <td>hard</td>\n",
       "      <td>hard</td>\n",
       "      <td>data/set2/a8</td>\n",
       "    </tr>\n",
       "    <tr>\n",
       "      <th>824</th>\n",
       "      <td>Xylophone</td>\n",
       "      <td>Did vibraphones exist in 1930?</td>\n",
       "      <td>yes</td>\n",
       "      <td>hard</td>\n",
       "      <td>hard</td>\n",
       "      <td>data/set2/a8</td>\n",
       "    </tr>\n",
       "  </tbody>\n",
       "</table>\n",
       "</div>"
      ],
      "text/plain": [
       "    ArticleTitle                                           Question  \\\n",
       "820    Xylophone  What is the earliest historical reference in E...   \n",
       "821    Xylophone    How are western-style xylophones characterised?   \n",
       "822    Xylophone                      Can a xylophone be 3 octaves?   \n",
       "823    Xylophone                 Can a short bar follow a long bar?   \n",
       "824    Xylophone                     Did vibraphones exist in 1930?   \n",
       "\n",
       "                                                Answer  \\\n",
       "820  Arnold Schlick's Spiegel der Orgelmacher und O...   \n",
       "821          by a bright, sharp tone and high register   \n",
       "822                                                yes   \n",
       "823                                                 no   \n",
       "824                                                yes   \n",
       "\n",
       "    DifficultyFromQuestioner DifficultyFromAnswerer   ArticleFile  \n",
       "820                   medium                 medium  data/set2/a8  \n",
       "821                   medium                 medium  data/set2/a8  \n",
       "822                     hard                   hard  data/set2/a8  \n",
       "823                     hard                   hard  data/set2/a8  \n",
       "824                     hard                   hard  data/set2/a8  "
      ]
     },
     "execution_count": 3,
     "metadata": {},
     "output_type": "execute_result"
    }
   ],
   "source": [
    "df2.tail()"
   ]
  },
  {
   "cell_type": "code",
   "execution_count": 4,
   "id": "05fca855",
   "metadata": {},
   "outputs": [
    {
     "name": "stdout",
     "output_type": "stream",
     "text": [
      "<class 'pandas.core.frame.DataFrame'>\n",
      "RangeIndex: 3998 entries, 0 to 3997\n",
      "Data columns (total 6 columns):\n",
      " #   Column                    Non-Null Count  Dtype \n",
      "---  ------                    --------------  ----- \n",
      " 0   ArticleTitle              3998 non-null   object\n",
      " 1   Question                  3961 non-null   object\n",
      " 2   Answer                    3422 non-null   object\n",
      " 3   DifficultyFromQuestioner  3043 non-null   object\n",
      " 4   DifficultyFromAnswerer    3418 non-null   object\n",
      " 5   ArticleFile               3996 non-null   object\n",
      "dtypes: object(6)\n",
      "memory usage: 187.5+ KB\n"
     ]
    },
    {
     "data": {
      "text/html": [
       "<div>\n",
       "<style scoped>\n",
       "    .dataframe tbody tr th:only-of-type {\n",
       "        vertical-align: middle;\n",
       "    }\n",
       "\n",
       "    .dataframe tbody tr th {\n",
       "        vertical-align: top;\n",
       "    }\n",
       "\n",
       "    .dataframe thead th {\n",
       "        text-align: right;\n",
       "    }\n",
       "</style>\n",
       "<table border=\"1\" class=\"dataframe\">\n",
       "  <thead>\n",
       "    <tr style=\"text-align: right;\">\n",
       "      <th></th>\n",
       "      <th>ArticleTitle</th>\n",
       "      <th>Question</th>\n",
       "      <th>Answer</th>\n",
       "      <th>DifficultyFromQuestioner</th>\n",
       "      <th>DifficultyFromAnswerer</th>\n",
       "      <th>ArticleFile</th>\n",
       "    </tr>\n",
       "  </thead>\n",
       "  <tbody>\n",
       "    <tr>\n",
       "      <th>3993</th>\n",
       "      <td>Zebra</td>\n",
       "      <td>What areas do the Grevy's Zebras inhabit?</td>\n",
       "      <td>NaN</td>\n",
       "      <td>hard</td>\n",
       "      <td>NaN</td>\n",
       "      <td>data/set1/a9</td>\n",
       "    </tr>\n",
       "    <tr>\n",
       "      <th>3994</th>\n",
       "      <td>Zebra</td>\n",
       "      <td>Which species of zebra is known as the common ...</td>\n",
       "      <td>Plains Zebra (Equus quagga, formerly Equus bur...</td>\n",
       "      <td>hard</td>\n",
       "      <td>medium</td>\n",
       "      <td>data/set1/a9</td>\n",
       "    </tr>\n",
       "    <tr>\n",
       "      <th>3995</th>\n",
       "      <td>Zebra</td>\n",
       "      <td>Which species of zebra is known as the common ...</td>\n",
       "      <td>Plains Zebra</td>\n",
       "      <td>hard</td>\n",
       "      <td>medium</td>\n",
       "      <td>data/set1/a9</td>\n",
       "    </tr>\n",
       "    <tr>\n",
       "      <th>3996</th>\n",
       "      <td>Zebra</td>\n",
       "      <td>At what age can a zebra breed?</td>\n",
       "      <td>five or six</td>\n",
       "      <td>hard</td>\n",
       "      <td>medium</td>\n",
       "      <td>data/set1/a9</td>\n",
       "    </tr>\n",
       "    <tr>\n",
       "      <th>3997</th>\n",
       "      <td>Zebra</td>\n",
       "      <td>At what age can a zebra breed?</td>\n",
       "      <td>5 or 6</td>\n",
       "      <td>hard</td>\n",
       "      <td>hard</td>\n",
       "      <td>data/set1/a9</td>\n",
       "    </tr>\n",
       "  </tbody>\n",
       "</table>\n",
       "</div>"
      ],
      "text/plain": [
       "     ArticleTitle                                           Question  \\\n",
       "3993        Zebra          What areas do the Grevy's Zebras inhabit?   \n",
       "3994        Zebra  Which species of zebra is known as the common ...   \n",
       "3995        Zebra  Which species of zebra is known as the common ...   \n",
       "3996        Zebra                     At what age can a zebra breed?   \n",
       "3997        Zebra                     At what age can a zebra breed?   \n",
       "\n",
       "                                                 Answer  \\\n",
       "3993                                                NaN   \n",
       "3994  Plains Zebra (Equus quagga, formerly Equus bur...   \n",
       "3995                                       Plains Zebra   \n",
       "3996                                        five or six   \n",
       "3997                                             5 or 6   \n",
       "\n",
       "     DifficultyFromQuestioner DifficultyFromAnswerer   ArticleFile  \n",
       "3993                     hard                    NaN  data/set1/a9  \n",
       "3994                     hard                 medium  data/set1/a9  \n",
       "3995                     hard                 medium  data/set1/a9  \n",
       "3996                     hard                 medium  data/set1/a9  \n",
       "3997                     hard                   hard  data/set1/a9  "
      ]
     },
     "execution_count": 4,
     "metadata": {},
     "output_type": "execute_result"
    }
   ],
   "source": [
    "# combine dataframe\n",
    "df = df1.append([df2, df3])\n",
    "df=df.reset_index(drop=True)\n",
    "df.info()\n",
    "df.tail()"
   ]
  },
  {
   "cell_type": "code",
   "execution_count": 5,
   "id": "8f3ea98c",
   "metadata": {},
   "outputs": [
    {
     "name": "stderr",
     "output_type": "stream",
     "text": [
      "C:\\Users\\ezhou\\AppData\\Local\\Temp/ipykernel_6764/1859622953.py:2: FutureWarning: The default value of regex will change from True to False in a future version.\n",
      "  df[\"Question\"] = df['Question'].str.replace(r'[^\\w\\s]+', '')\n",
      "C:\\Users\\ezhou\\AppData\\Local\\Temp/ipykernel_6764/1859622953.py:3: FutureWarning: The default value of regex will change from True to False in a future version.\n",
      "  df[\"Answer\"] = df['Answer'].str.replace(r'[^\\w\\s]+', '')\n"
     ]
    }
   ],
   "source": [
    "# remove punctuations in Question and answer\n",
    "df[\"Question\"] = df['Question'].str.replace(r'[^\\w\\s]+', '')\n",
    "df[\"Answer\"] = df['Answer'].str.replace(r'[^\\w\\s]+', '')"
   ]
  },
  {
   "cell_type": "code",
   "execution_count": 6,
   "id": "e6d47b53",
   "metadata": {},
   "outputs": [],
   "source": [
    "#change question and answer to lower letter\n",
    "df['Question']=df['Question'].str.lower()\n",
    "df['Answer']=df['Answer'].str.lower()"
   ]
  },
  {
   "cell_type": "code",
   "execution_count": 7,
   "id": "28da0174",
   "metadata": {},
   "outputs": [
    {
     "data": {
      "text/plain": [
       "(3452, 6)"
      ]
     },
     "execution_count": 7,
     "metadata": {},
     "output_type": "execute_result"
    }
   ],
   "source": [
    "# drop duplicates\n",
    "df = df.drop_duplicates()\n",
    "df.shape"
   ]
  },
  {
   "cell_type": "code",
   "execution_count": 8,
   "id": "6240d8a5",
   "metadata": {},
   "outputs": [],
   "source": [
    "# repalce entire space in a cell by null\n",
    "df = df.apply(lambda x: x.str.strip()).replace('', np.nan)"
   ]
  },
  {
   "cell_type": "code",
   "execution_count": 9,
   "id": "f5ed2909",
   "metadata": {},
   "outputs": [
    {
     "data": {
      "text/plain": [
       "(2955, 6)"
      ]
     },
     "execution_count": 9,
     "metadata": {},
     "output_type": "execute_result"
    }
   ],
   "source": [
    "# drop null of question and answer\n",
    "df = df.dropna(subset=['Question','Answer'])\n",
    "df=df.reset_index(drop=True)\n",
    "df.shape"
   ]
  },
  {
   "cell_type": "code",
   "execution_count": 10,
   "id": "3b65c2fd",
   "metadata": {},
   "outputs": [
    {
     "data": {
      "text/html": [
       "<div>\n",
       "<style scoped>\n",
       "    .dataframe tbody tr th:only-of-type {\n",
       "        vertical-align: middle;\n",
       "    }\n",
       "\n",
       "    .dataframe tbody tr th {\n",
       "        vertical-align: top;\n",
       "    }\n",
       "\n",
       "    .dataframe thead th {\n",
       "        text-align: right;\n",
       "    }\n",
       "</style>\n",
       "<table border=\"1\" class=\"dataframe\">\n",
       "  <thead>\n",
       "    <tr style=\"text-align: right;\">\n",
       "      <th></th>\n",
       "      <th>ArticleTitle</th>\n",
       "      <th>Question</th>\n",
       "      <th>Answer</th>\n",
       "      <th>DifficultyFromQuestioner</th>\n",
       "      <th>DifficultyFromAnswerer</th>\n",
       "      <th>ArticleFile</th>\n",
       "    </tr>\n",
       "  </thead>\n",
       "  <tbody>\n",
       "    <tr>\n",
       "      <th>2945</th>\n",
       "      <td>beetle</td>\n",
       "      <td>what are the similarities between beetles and ...</td>\n",
       "      <td>mouthparts</td>\n",
       "      <td>hard</td>\n",
       "      <td>medium</td>\n",
       "      <td>data/set1/a8</td>\n",
       "    </tr>\n",
       "    <tr>\n",
       "      <th>2946</th>\n",
       "      <td>Amedeo_Avogadro</td>\n",
       "      <td>who was avogadros wife</td>\n",
       "      <td>felicita mazz</td>\n",
       "      <td>hard</td>\n",
       "      <td>hard</td>\n",
       "      <td>data/set4/a8</td>\n",
       "    </tr>\n",
       "    <tr>\n",
       "      <th>2947</th>\n",
       "      <td>Zebra</td>\n",
       "      <td>what are zebras hunted for</td>\n",
       "      <td>skins</td>\n",
       "      <td>medium</td>\n",
       "      <td>medium</td>\n",
       "      <td>data/set1/a9</td>\n",
       "    </tr>\n",
       "    <tr>\n",
       "      <th>2948</th>\n",
       "      <td>Gerald_Ford</td>\n",
       "      <td>was ford interred at his presidential museum i...</td>\n",
       "      <td>yes</td>\n",
       "      <td>NaN</td>\n",
       "      <td>easy</td>\n",
       "      <td>data/set3/a10</td>\n",
       "    </tr>\n",
       "    <tr>\n",
       "      <th>2949</th>\n",
       "      <td>Ulysses_S._Grant</td>\n",
       "      <td>who was grants brother in law</td>\n",
       "      <td>fred dent</td>\n",
       "      <td>medium</td>\n",
       "      <td>medium</td>\n",
       "      <td>data/set3/a5</td>\n",
       "    </tr>\n",
       "    <tr>\n",
       "      <th>2950</th>\n",
       "      <td>Lobster</td>\n",
       "      <td>are lobsters invertebrates</td>\n",
       "      <td>yes</td>\n",
       "      <td>easy</td>\n",
       "      <td>easy</td>\n",
       "      <td>data/set1/a5</td>\n",
       "    </tr>\n",
       "    <tr>\n",
       "      <th>2951</th>\n",
       "      <td>Uruguay</td>\n",
       "      <td>is uruguay s oldest church in san carlos  mald...</td>\n",
       "      <td>yes</td>\n",
       "      <td>NaN</td>\n",
       "      <td>easy</td>\n",
       "      <td>data/set2/a9</td>\n",
       "    </tr>\n",
       "    <tr>\n",
       "      <th>2952</th>\n",
       "      <td>Cougar</td>\n",
       "      <td>what are some of the cougars primary food sources</td>\n",
       "      <td>ungulates such as deer elk and bighorn sheep a...</td>\n",
       "      <td>medium</td>\n",
       "      <td>medium</td>\n",
       "      <td>data/set1/a2</td>\n",
       "    </tr>\n",
       "    <tr>\n",
       "      <th>2953</th>\n",
       "      <td>Michael_Faraday</td>\n",
       "      <td>did faraday also discover the laws of electrol...</td>\n",
       "      <td>yes</td>\n",
       "      <td>easy</td>\n",
       "      <td>easy</td>\n",
       "      <td>data/set4/a7</td>\n",
       "    </tr>\n",
       "    <tr>\n",
       "      <th>2954</th>\n",
       "      <td>Drum</td>\n",
       "      <td>how do rock and roll drummers like their drumh...</td>\n",
       "      <td>drums that sound loud and deep</td>\n",
       "      <td>hard</td>\n",
       "      <td>hard</td>\n",
       "      <td>data/set2/a4</td>\n",
       "    </tr>\n",
       "  </tbody>\n",
       "</table>\n",
       "</div>"
      ],
      "text/plain": [
       "          ArticleTitle                                           Question  \\\n",
       "2945            beetle  what are the similarities between beetles and ...   \n",
       "2946   Amedeo_Avogadro                             who was avogadros wife   \n",
       "2947             Zebra                         what are zebras hunted for   \n",
       "2948       Gerald_Ford  was ford interred at his presidential museum i...   \n",
       "2949  Ulysses_S._Grant                      who was grants brother in law   \n",
       "2950           Lobster                         are lobsters invertebrates   \n",
       "2951           Uruguay  is uruguay s oldest church in san carlos  mald...   \n",
       "2952            Cougar  what are some of the cougars primary food sources   \n",
       "2953   Michael_Faraday  did faraday also discover the laws of electrol...   \n",
       "2954              Drum  how do rock and roll drummers like their drumh...   \n",
       "\n",
       "                                                 Answer  \\\n",
       "2945                                         mouthparts   \n",
       "2946                                      felicita mazz   \n",
       "2947                                              skins   \n",
       "2948                                                yes   \n",
       "2949                                          fred dent   \n",
       "2950                                                yes   \n",
       "2951                                                yes   \n",
       "2952  ungulates such as deer elk and bighorn sheep a...   \n",
       "2953                                                yes   \n",
       "2954                     drums that sound loud and deep   \n",
       "\n",
       "     DifficultyFromQuestioner DifficultyFromAnswerer    ArticleFile  \n",
       "2945                     hard                 medium   data/set1/a8  \n",
       "2946                     hard                   hard   data/set4/a8  \n",
       "2947                   medium                 medium   data/set1/a9  \n",
       "2948                      NaN                   easy  data/set3/a10  \n",
       "2949                   medium                 medium   data/set3/a5  \n",
       "2950                     easy                   easy   data/set1/a5  \n",
       "2951                      NaN                   easy   data/set2/a9  \n",
       "2952                   medium                 medium   data/set1/a2  \n",
       "2953                     easy                   easy   data/set4/a7  \n",
       "2954                     hard                   hard   data/set2/a4  "
      ]
     },
     "execution_count": 10,
     "metadata": {},
     "output_type": "execute_result"
    }
   ],
   "source": [
    "# reset dataset in random order\n",
    "df=df.sample(frac=1).reset_index(drop=True)\n",
    "df.tail(10)"
   ]
  },
  {
   "cell_type": "code",
   "execution_count": 11,
   "id": "9050d764",
   "metadata": {},
   "outputs": [],
   "source": [
    "#split training, validation, test set by 0.7, 0.15, 0.15\n",
    "n1=round(len(df)*0.7)\n",
    "n2=round(len(df)*0.15)\n",
    "train_df=df.iloc[0:n1,:].reset_index(drop=True)\n",
    "vail_df=df.iloc[n1:n1+n2,:].reset_index(drop=True)\n",
    "test_df=df.iloc[n1+n2:,:].reset_index(drop=True)"
   ]
  },
  {
   "cell_type": "code",
   "execution_count": 12,
   "id": "326c990f",
   "metadata": {},
   "outputs": [
    {
     "data": {
      "text/plain": [
       "(2068, 6)"
      ]
     },
     "execution_count": 12,
     "metadata": {},
     "output_type": "execute_result"
    }
   ],
   "source": [
    "train_df.shape"
   ]
  },
  {
   "cell_type": "code",
   "execution_count": 14,
   "id": "4e742a6f",
   "metadata": {},
   "outputs": [
    {
     "ename": "FileNotFoundError",
     "evalue": "[Errno 2] No such file or directory: 'Dataset\\\\vail_df.csv'",
     "output_type": "error",
     "traceback": [
      "\u001b[1;31m---------------------------------------------------------------------------\u001b[0m",
      "\u001b[1;31mFileNotFoundError\u001b[0m                         Traceback (most recent call last)",
      "\u001b[1;32m~\\AppData\\Local\\Temp/ipykernel_6764/720442171.py\u001b[0m in \u001b[0;36m<module>\u001b[1;34m\u001b[0m\n\u001b[0;32m      1\u001b[0m \u001b[1;31m# export cleaned dataset\u001b[0m\u001b[1;33m\u001b[0m\u001b[1;33m\u001b[0m\u001b[0m\n\u001b[0;32m      2\u001b[0m \u001b[0mtrain_df\u001b[0m\u001b[1;33m.\u001b[0m\u001b[0mto_csv\u001b[0m\u001b[1;33m(\u001b[0m\u001b[1;34mr\"Downloads\\train_df.csv\"\u001b[0m\u001b[1;33m,\u001b[0m\u001b[0mencoding\u001b[0m\u001b[1;33m=\u001b[0m\u001b[1;34m\"utf-8\"\u001b[0m\u001b[1;33m)\u001b[0m\u001b[1;33m\u001b[0m\u001b[1;33m\u001b[0m\u001b[0m\n\u001b[1;32m----> 3\u001b[1;33m \u001b[0mvail_df\u001b[0m\u001b[1;33m.\u001b[0m\u001b[0mto_csv\u001b[0m\u001b[1;33m(\u001b[0m\u001b[1;34mr\"Dataset\\vail_df.csv\"\u001b[0m\u001b[1;33m,\u001b[0m\u001b[0mencoding\u001b[0m\u001b[1;33m=\u001b[0m\u001b[1;34m\"utf-8\"\u001b[0m\u001b[1;33m)\u001b[0m\u001b[1;33m\u001b[0m\u001b[1;33m\u001b[0m\u001b[0m\n\u001b[0m\u001b[0;32m      4\u001b[0m \u001b[0mtest_df\u001b[0m\u001b[1;33m.\u001b[0m\u001b[0mto_csv\u001b[0m\u001b[1;33m(\u001b[0m\u001b[1;34mr\"Dataset\\test_df.csv\"\u001b[0m\u001b[1;33m,\u001b[0m\u001b[0mencoding\u001b[0m\u001b[1;33m=\u001b[0m\u001b[1;34m\"utf-8\"\u001b[0m\u001b[1;33m)\u001b[0m\u001b[1;33m\u001b[0m\u001b[1;33m\u001b[0m\u001b[0m\n",
      "\u001b[1;32m~\\anaconda3\\lib\\site-packages\\pandas\\core\\generic.py\u001b[0m in \u001b[0;36mto_csv\u001b[1;34m(self, path_or_buf, sep, na_rep, float_format, columns, header, index, index_label, mode, encoding, compression, quoting, quotechar, line_terminator, chunksize, date_format, doublequote, escapechar, decimal, errors, storage_options)\u001b[0m\n\u001b[0;32m   3464\u001b[0m         )\n\u001b[0;32m   3465\u001b[0m \u001b[1;33m\u001b[0m\u001b[0m\n\u001b[1;32m-> 3466\u001b[1;33m         return DataFrameRenderer(formatter).to_csv(\n\u001b[0m\u001b[0;32m   3467\u001b[0m             \u001b[0mpath_or_buf\u001b[0m\u001b[1;33m,\u001b[0m\u001b[1;33m\u001b[0m\u001b[1;33m\u001b[0m\u001b[0m\n\u001b[0;32m   3468\u001b[0m             \u001b[0mline_terminator\u001b[0m\u001b[1;33m=\u001b[0m\u001b[0mline_terminator\u001b[0m\u001b[1;33m,\u001b[0m\u001b[1;33m\u001b[0m\u001b[1;33m\u001b[0m\u001b[0m\n",
      "\u001b[1;32m~\\anaconda3\\lib\\site-packages\\pandas\\io\\formats\\format.py\u001b[0m in \u001b[0;36mto_csv\u001b[1;34m(self, path_or_buf, encoding, sep, columns, index_label, mode, compression, quoting, quotechar, line_terminator, chunksize, date_format, doublequote, escapechar, errors, storage_options)\u001b[0m\n\u001b[0;32m   1103\u001b[0m             \u001b[0mformatter\u001b[0m\u001b[1;33m=\u001b[0m\u001b[0mself\u001b[0m\u001b[1;33m.\u001b[0m\u001b[0mfmt\u001b[0m\u001b[1;33m,\u001b[0m\u001b[1;33m\u001b[0m\u001b[1;33m\u001b[0m\u001b[0m\n\u001b[0;32m   1104\u001b[0m         )\n\u001b[1;32m-> 1105\u001b[1;33m         \u001b[0mcsv_formatter\u001b[0m\u001b[1;33m.\u001b[0m\u001b[0msave\u001b[0m\u001b[1;33m(\u001b[0m\u001b[1;33m)\u001b[0m\u001b[1;33m\u001b[0m\u001b[1;33m\u001b[0m\u001b[0m\n\u001b[0m\u001b[0;32m   1106\u001b[0m \u001b[1;33m\u001b[0m\u001b[0m\n\u001b[0;32m   1107\u001b[0m         \u001b[1;32mif\u001b[0m \u001b[0mcreated_buffer\u001b[0m\u001b[1;33m:\u001b[0m\u001b[1;33m\u001b[0m\u001b[1;33m\u001b[0m\u001b[0m\n",
      "\u001b[1;32m~\\anaconda3\\lib\\site-packages\\pandas\\io\\formats\\csvs.py\u001b[0m in \u001b[0;36msave\u001b[1;34m(self)\u001b[0m\n\u001b[0;32m    235\u001b[0m         \"\"\"\n\u001b[0;32m    236\u001b[0m         \u001b[1;31m# apply compression and byte/text conversion\u001b[0m\u001b[1;33m\u001b[0m\u001b[1;33m\u001b[0m\u001b[0m\n\u001b[1;32m--> 237\u001b[1;33m         with get_handle(\n\u001b[0m\u001b[0;32m    238\u001b[0m             \u001b[0mself\u001b[0m\u001b[1;33m.\u001b[0m\u001b[0mfilepath_or_buffer\u001b[0m\u001b[1;33m,\u001b[0m\u001b[1;33m\u001b[0m\u001b[1;33m\u001b[0m\u001b[0m\n\u001b[0;32m    239\u001b[0m             \u001b[0mself\u001b[0m\u001b[1;33m.\u001b[0m\u001b[0mmode\u001b[0m\u001b[1;33m,\u001b[0m\u001b[1;33m\u001b[0m\u001b[1;33m\u001b[0m\u001b[0m\n",
      "\u001b[1;32m~\\anaconda3\\lib\\site-packages\\pandas\\io\\common.py\u001b[0m in \u001b[0;36mget_handle\u001b[1;34m(path_or_buf, mode, encoding, compression, memory_map, is_text, errors, storage_options)\u001b[0m\n\u001b[0;32m    700\u001b[0m         \u001b[1;32mif\u001b[0m \u001b[0mioargs\u001b[0m\u001b[1;33m.\u001b[0m\u001b[0mencoding\u001b[0m \u001b[1;32mand\u001b[0m \u001b[1;34m\"b\"\u001b[0m \u001b[1;32mnot\u001b[0m \u001b[1;32min\u001b[0m \u001b[0mioargs\u001b[0m\u001b[1;33m.\u001b[0m\u001b[0mmode\u001b[0m\u001b[1;33m:\u001b[0m\u001b[1;33m\u001b[0m\u001b[1;33m\u001b[0m\u001b[0m\n\u001b[0;32m    701\u001b[0m             \u001b[1;31m# Encoding\u001b[0m\u001b[1;33m\u001b[0m\u001b[1;33m\u001b[0m\u001b[0m\n\u001b[1;32m--> 702\u001b[1;33m             handle = open(\n\u001b[0m\u001b[0;32m    703\u001b[0m                 \u001b[0mhandle\u001b[0m\u001b[1;33m,\u001b[0m\u001b[1;33m\u001b[0m\u001b[1;33m\u001b[0m\u001b[0m\n\u001b[0;32m    704\u001b[0m                 \u001b[0mioargs\u001b[0m\u001b[1;33m.\u001b[0m\u001b[0mmode\u001b[0m\u001b[1;33m,\u001b[0m\u001b[1;33m\u001b[0m\u001b[1;33m\u001b[0m\u001b[0m\n",
      "\u001b[1;31mFileNotFoundError\u001b[0m: [Errno 2] No such file or directory: 'Dataset\\\\vail_df.csv'"
     ]
    }
   ],
   "source": [
    "# export cleaned dataset\n",
    "train_df.to_csv(r\"Dataset\\train_df.csv\",encoding=\"utf-8\")\n",
    "vail_df.to_csv(r\"Dataset\\vail_df.csv\",encoding=\"utf-8\")\n",
    "test_df.to_csv(r\"Dataset\\test_df.csv\",encoding=\"utf-8\")"
   ]
  },
  {
   "cell_type": "code",
   "execution_count": null,
   "id": "da3279e2",
   "metadata": {},
   "outputs": [],
   "source": []
  }
 ],
 "metadata": {
  "kernelspec": {
   "display_name": "Python 3 (ipykernel)",
   "language": "python",
   "name": "python3"
  },
  "language_info": {
   "codemirror_mode": {
    "name": "ipython",
    "version": 3
   },
   "file_extension": ".py",
   "mimetype": "text/x-python",
   "name": "python",
   "nbconvert_exporter": "python",
   "pygments_lexer": "ipython3",
   "version": "3.9.7"
  }
 },
 "nbformat": 4,
 "nbformat_minor": 5
}
